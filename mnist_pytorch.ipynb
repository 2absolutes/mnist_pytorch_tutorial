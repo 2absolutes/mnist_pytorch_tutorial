{
 "cells": [
  {
   "cell_type": "markdown",
   "id": "38fcbfe2",
   "metadata": {},
   "source": [
    "A lot of the material is taken/inspired from Martin Gorner's presentation https://github.com/GoogleCloudPlatform/tensorflow-without-a-phd"
   ]
  },
  {
   "cell_type": "code",
   "execution_count": 1,
   "id": "b2d7ea5f",
   "metadata": {},
   "outputs": [],
   "source": [
    "%matplotlib inline\n",
    "import matplotlib.pyplot as plt\n",
    "import torch\n",
    "import torchvision\n",
    "from torch import nn\n",
    "import torch.optim as optim"
   ]
  },
  {
   "cell_type": "code",
   "execution_count": 2,
   "id": "b096980f",
   "metadata": {},
   "outputs": [],
   "source": [
    "device = torch.device(\"cuda\" if torch.cuda.is_available() else \"cpu\")"
   ]
  },
  {
   "cell_type": "code",
   "execution_count": 3,
   "id": "c27745bb",
   "metadata": {},
   "outputs": [],
   "source": [
    "batch_size_train = 64\n",
    "batch_size_test = 1024"
   ]
  },
  {
   "cell_type": "markdown",
   "id": "eeb220bb",
   "metadata": {},
   "source": [
    "# Load the MNIST Dataset"
   ]
  },
  {
   "cell_type": "code",
   "execution_count": 4,
   "id": "27c80a35",
   "metadata": {
    "scrolled": false
   },
   "outputs": [
    {
     "name": "stderr",
     "output_type": "stream",
     "text": [
      "/home/piyush/.virtualenvs/ml_env/lib/python3.9/site-packages/torchvision/datasets/mnist.py:498: UserWarning: The given NumPy array is not writeable, and PyTorch does not support non-writeable tensors. This means you can write to the underlying (supposedly non-writeable) NumPy array using the tensor. You may want to copy the array to protect its data or make it writeable before converting it to a tensor. This type of warning will be suppressed for the rest of this program. (Triggered internally at  /pytorch/torch/csrc/utils/tensor_numpy.cpp:180.)\n",
      "  return torch.from_numpy(parsed.astype(m[2], copy=False)).view(*s)\n"
     ]
    }
   ],
   "source": [
    "transform = torchvision.transforms.Compose([\n",
    "    torchvision.transforms.ToTensor(),\n",
    "    torchvision.transforms.Normalize((0.1307,), (0.3081,))\n",
    "])\n",
    "\n",
    "train_data = torchvision.datasets.MNIST(\n",
    "    root='data/',\n",
    "    train=True,\n",
    "    download=True,\n",
    "    transform=transform\n",
    ")\n",
    "\n",
    "test_data = torchvision.datasets.MNIST(\n",
    "    'data/', \n",
    "    train=False, \n",
    "    download=True,\n",
    "    transform=transform)\n",
    "\n",
    "train_loader = torch.utils.data.DataLoader(\n",
    "    train_data,\n",
    "    batch_size=batch_size_train, \n",
    "    shuffle=True)\n",
    "\n",
    "test_loader = torch.utils.data.DataLoader(\n",
    "    test_data,\n",
    "    batch_size=batch_size_test, \n",
    "    shuffle=True)\n",
    "\n",
    "# train_data.train_data.to(device)  # put data into GPU entirely\n",
    "# train_data.train_labels.to(device)\n",
    "\n",
    "# test_data.test_data.to(device)  # put data into GPU entirely\n",
    "# test_data.test_labels.to(device)"
   ]
  },
  {
   "cell_type": "code",
   "execution_count": 5,
   "id": "5fadb2b4",
   "metadata": {},
   "outputs": [
    {
     "data": {
      "text/plain": [
       "['__add__',\n",
       " '__class__',\n",
       " '__class_getitem__',\n",
       " '__delattr__',\n",
       " '__dict__',\n",
       " '__dir__',\n",
       " '__doc__',\n",
       " '__eq__',\n",
       " '__format__',\n",
       " '__ge__',\n",
       " '__getattribute__',\n",
       " '__getitem__',\n",
       " '__gt__',\n",
       " '__hash__',\n",
       " '__init__',\n",
       " '__init_subclass__',\n",
       " '__le__',\n",
       " '__len__',\n",
       " '__lt__',\n",
       " '__module__',\n",
       " '__ne__',\n",
       " '__new__',\n",
       " '__orig_bases__',\n",
       " '__parameters__',\n",
       " '__reduce__',\n",
       " '__reduce_ex__',\n",
       " '__repr__',\n",
       " '__setattr__',\n",
       " '__sizeof__',\n",
       " '__slots__',\n",
       " '__str__',\n",
       " '__subclasshook__',\n",
       " '__weakref__',\n",
       " '_check_exists',\n",
       " '_check_legacy_exist',\n",
       " '_format_transform_repr',\n",
       " '_is_protocol',\n",
       " '_load_data',\n",
       " '_load_legacy_data',\n",
       " '_repr_indent',\n",
       " 'class_to_idx',\n",
       " 'classes',\n",
       " 'data',\n",
       " 'download',\n",
       " 'extra_repr',\n",
       " 'mirrors',\n",
       " 'processed_folder',\n",
       " 'raw_folder',\n",
       " 'resources',\n",
       " 'root',\n",
       " 'target_transform',\n",
       " 'targets',\n",
       " 'test_data',\n",
       " 'test_file',\n",
       " 'test_labels',\n",
       " 'train',\n",
       " 'train_data',\n",
       " 'train_labels',\n",
       " 'training_file',\n",
       " 'transform',\n",
       " 'transforms']"
      ]
     },
     "execution_count": 5,
     "metadata": {},
     "output_type": "execute_result"
    }
   ],
   "source": [
    "dir(train_data)"
   ]
  },
  {
   "cell_type": "markdown",
   "id": "466fc71b",
   "metadata": {},
   "source": [
    "## Visualizing"
   ]
  },
  {
   "cell_type": "code",
   "execution_count": 6,
   "id": "e6a6437b",
   "metadata": {},
   "outputs": [
    {
     "data": {
      "text/plain": [
       "torch.Size([64, 1, 28, 28])"
      ]
     },
     "execution_count": 6,
     "metadata": {},
     "output_type": "execute_result"
    }
   ],
   "source": [
    "examples = enumerate(train_loader)\n",
    "batch_idx, (example_data, example_targets) = next(examples)\n",
    "example_data.shape"
   ]
  },
  {
   "cell_type": "code",
   "execution_count": 7,
   "id": "dc068c10",
   "metadata": {},
   "outputs": [
    {
     "data": {
      "image/png": "[encoded data removed]",
      "text/plain": [
       "<Figure size 432x288 with 9 Axes>"
      ]
     },
     "metadata": {},
     "output_type": "display_data"
    }
   ],
   "source": [
    "fig = plt.figure()\n",
    "for i in range(9):\n",
    "  plt.subplot(3,3,i+1)\n",
    "  plt.tight_layout()\n",
    "  plt.imshow(example_data[i][0], cmap='gray', interpolation='none')\n",
    "  plt.title(f\"Ground Truth: {example_targets[i]}\")\n",
    "  plt.xticks([])\n",
    "  plt.yticks([])\n"
   ]
  },
  {
   "cell_type": "markdown",
   "id": "34c385cb",
   "metadata": {},
   "source": [
    "# Architecture"
   ]
  },
  {
   "cell_type": "markdown",
   "id": "162cf05b",
   "metadata": {},
   "source": [
    "## Flattening\n",
    "<figure>\n",
    "    <img src=\"images/mnist_flatten.png\" alt=\"A kitten\">\n",
    "    <figcaption>Source: https://github.com/GoogleCloudPlatform/tensorflow-without-a-phd <figcaption>\n",
    "<figure>  "
   ]
  },
  {
   "cell_type": "markdown",
   "id": "8069a674",
   "metadata": {},
   "source": [
    "## Matrix Representation\n",
    "<figure>\n",
    "    <img src=\"images/mnist_matrix_multiplication_batch.png\" alt=\"A kitten\">\n",
    "    <br><br>\n",
    "    <figcaption>Source: https://github.com/GoogleCloudPlatform/tensorflow-without-a-phd <figcaption>\n",
    "<figure> "
   ]
  },
  {
   "cell_type": "code",
   "execution_count": 11,
   "id": "447ff8df",
   "metadata": {},
   "outputs": [],
   "source": [
    "class NeuralNetwork(nn.Module):\n",
    "    def __init__(self, input_size, n_classes):\n",
    "        super().__init__()\n",
    "        self.nn_stack = nn.Sequential(\n",
    "            nn.Linear(input_size, n_classes)\n",
    "        )\n",
    "    def forward(self, x):\n",
    "        output = self.nn_stack(x)\n",
    "        return nn.functional.log_softmax(output)"
   ]
  },
  {
   "cell_type": "code",
   "execution_count": 12,
   "id": "6dbcb4ff",
   "metadata": {},
   "outputs": [],
   "source": [
    "def one_train_epoch(train_data, model, loss_fn, optimizer):\n",
    "    for batch_idx, (data, target) in enumerate(train_loader):\n",
    "        data = data.to(device)\n",
    "        target = target.to(device)\n",
    "        data = data.view(-1, 784)\n",
    "        optimizer.zero_grad()\n",
    "        predictions = model(data)\n",
    "        loss = loss_fn(predictions, target)\n",
    "        \n",
    "        if batch_idx % 100 == 0:\n",
    "            print(f\"loss: {loss.item():>7f}  [{batch_idx * len(data):>5d}/{len(train_loader.dataset):>5d}]\")\n",
    "        \n",
    "        loss.backward()\n",
    "        optimizer.step()\n",
    "    print(f\"loss: {loss.item():>7f}  [{batch_idx * len(data):>5d}/{len(train_loader.dataset):>5d}]\")\n",
    "    return loss"
   ]
  },
  {
   "cell_type": "code",
   "execution_count": 13,
   "id": "1482df29",
   "metadata": {},
   "outputs": [],
   "source": [
    "model = NeuralNetwork(784, 10).to(device)"
   ]
  },
  {
   "cell_type": "code",
   "execution_count": 14,
   "id": "c6341cd8",
   "metadata": {},
   "outputs": [],
   "source": [
    "epochs = 10\n",
    "learning_rate = 0.001\n",
    "\n",
    "loss_fn = nn.CrossEntropyLoss()\n",
    "optimizer = torch.optim.Adam(model.parameters(), \n",
    "                             lr = learning_rate, \n",
    "#                              weight_decay=0.0001\n",
    "                            )\n",
    "# scheduler = torch.optim.lr_scheduler.StepLR(optimizer, step_size=50, gamma=0.5)\n",
    "scheduler = torch.optim.lr_scheduler.ReduceLROnPlateau(optimizer, mode=\"min\", factor=0.5, patience=6, verbose=True)"
   ]
  },
  {
   "cell_type": "code",
   "execution_count": 15,
   "id": "41abe3b0",
   "metadata": {},
   "outputs": [
    {
     "name": "stdout",
     "output_type": "stream",
     "text": [
      "Epoch 1, lr: 0.001\n",
      "-------------------------------\n",
      "loss: 2.517169  [    0/60000]\n"
     ]
    },
    {
     "name": "stderr",
     "output_type": "stream",
     "text": [
      "/tmp/ipykernel_22813/1067902870.py:11: UserWarning: Implicit dimension choice for log_softmax has been deprecated. Change the call to include dim=X as an argument.\n",
      "  return nn.functional.log_softmax(output)\n"
     ]
    },
    {
     "name": "stdout",
     "output_type": "stream",
     "text": [
      "loss: 0.449358  [ 6400/60000]\n",
      "loss: 0.330546  [12800/60000]\n",
      "loss: 0.401052  [19200/60000]\n",
      "loss: 0.429391  [25600/60000]\n",
      "loss: 0.225101  [32000/60000]\n",
      "loss: 0.195436  [38400/60000]\n",
      "loss: 0.377609  [44800/60000]\n",
      "loss: 0.341250  [51200/60000]\n",
      "loss: 0.249213  [57600/60000]\n",
      "loss: 0.138847  [29984/60000]\n",
      "Epoch 2, lr: 0.001\n",
      "-------------------------------\n",
      "loss: 0.451974  [    0/60000]\n",
      "loss: 0.531141  [ 6400/60000]\n",
      "loss: 0.220913  [12800/60000]\n",
      "loss: 0.203612  [19200/60000]\n",
      "loss: 0.269233  [25600/60000]\n",
      "loss: 0.129342  [32000/60000]\n",
      "loss: 0.303108  [38400/60000]\n",
      "loss: 0.388665  [44800/60000]\n",
      "loss: 0.303354  [51200/60000]\n",
      "loss: 0.220795  [57600/60000]\n",
      "loss: 0.288637  [29984/60000]\n",
      "Epoch 3, lr: 0.001\n",
      "-------------------------------\n",
      "loss: 0.256508  [    0/60000]\n",
      "loss: 0.674824  [ 6400/60000]\n",
      "loss: 0.166363  [12800/60000]\n",
      "loss: 0.293555  [19200/60000]\n",
      "loss: 0.236924  [25600/60000]\n",
      "loss: 0.227437  [32000/60000]\n",
      "loss: 0.152655  [38400/60000]\n",
      "loss: 0.223930  [44800/60000]\n",
      "loss: 0.355659  [51200/60000]\n",
      "loss: 0.365036  [57600/60000]\n",
      "loss: 0.459179  [29984/60000]\n",
      "Epoch 4, lr: 0.001\n",
      "-------------------------------\n",
      "loss: 0.143841  [    0/60000]\n",
      "loss: 0.388967  [ 6400/60000]\n",
      "loss: 0.245860  [12800/60000]\n",
      "loss: 0.215830  [19200/60000]\n",
      "loss: 0.193791  [25600/60000]\n",
      "loss: 0.250789  [32000/60000]\n",
      "loss: 0.493075  [38400/60000]\n",
      "loss: 0.149394  [44800/60000]\n",
      "loss: 0.189602  [51200/60000]\n",
      "loss: 0.208348  [57600/60000]\n",
      "loss: 0.093872  [29984/60000]\n",
      "Epoch 5, lr: 0.001\n",
      "-------------------------------\n",
      "loss: 0.252075  [    0/60000]\n",
      "loss: 0.148975  [ 6400/60000]\n",
      "loss: 0.356084  [12800/60000]\n",
      "loss: 0.130370  [19200/60000]\n",
      "loss: 0.113615  [25600/60000]\n",
      "loss: 0.236714  [32000/60000]\n",
      "loss: 0.286896  [38400/60000]\n",
      "loss: 0.106888  [44800/60000]\n",
      "loss: 0.136548  [51200/60000]\n",
      "loss: 0.072839  [57600/60000]\n",
      "loss: 0.532872  [29984/60000]\n",
      "Epoch 6, lr: 0.001\n",
      "-------------------------------\n",
      "loss: 0.219832  [    0/60000]\n",
      "loss: 0.274484  [ 6400/60000]\n",
      "loss: 0.262967  [12800/60000]\n",
      "loss: 0.352535  [19200/60000]\n",
      "loss: 0.590670  [25600/60000]\n",
      "loss: 0.185323  [32000/60000]\n",
      "loss: 0.166739  [38400/60000]\n",
      "loss: 0.345731  [44800/60000]\n",
      "loss: 0.229636  [51200/60000]\n",
      "loss: 0.291494  [57600/60000]\n",
      "loss: 0.159915  [29984/60000]\n",
      "Epoch 7, lr: 0.001\n",
      "-------------------------------\n",
      "loss: 0.226206  [    0/60000]\n",
      "loss: 0.376259  [ 6400/60000]\n",
      "loss: 0.168463  [12800/60000]\n",
      "loss: 0.213765  [19200/60000]\n",
      "loss: 0.372816  [25600/60000]\n",
      "loss: 0.284016  [32000/60000]\n",
      "loss: 0.133883  [38400/60000]\n",
      "loss: 0.152053  [44800/60000]\n",
      "loss: 0.328266  [51200/60000]\n",
      "loss: 0.189702  [57600/60000]\n",
      "loss: 0.226855  [29984/60000]\n",
      "Epoch 8, lr: 0.001\n",
      "-------------------------------\n",
      "loss: 0.154612  [    0/60000]\n",
      "loss: 0.413077  [ 6400/60000]\n",
      "loss: 0.204923  [12800/60000]\n",
      "loss: 0.278293  [19200/60000]\n",
      "loss: 0.253645  [25600/60000]\n",
      "loss: 0.317865  [32000/60000]\n",
      "loss: 0.253585  [38400/60000]\n",
      "loss: 0.306418  [44800/60000]\n",
      "loss: 0.168328  [51200/60000]\n",
      "loss: 0.152890  [57600/60000]\n",
      "loss: 0.141965  [29984/60000]\n",
      "Epoch 9, lr: 0.001\n",
      "-------------------------------\n",
      "loss: 0.094071  [    0/60000]\n",
      "loss: 0.235951  [ 6400/60000]\n",
      "loss: 0.287627  [12800/60000]\n",
      "loss: 0.158789  [19200/60000]\n",
      "loss: 0.379083  [25600/60000]\n",
      "loss: 0.254070  [32000/60000]\n",
      "loss: 0.096308  [38400/60000]\n",
      "loss: 0.239528  [44800/60000]\n",
      "loss: 0.260299  [51200/60000]\n",
      "loss: 0.344666  [57600/60000]\n",
      "loss: 0.472672  [29984/60000]\n",
      "Epoch 10, lr: 0.001\n",
      "-------------------------------\n",
      "loss: 0.063793  [    0/60000]\n",
      "loss: 0.282161  [ 6400/60000]\n",
      "loss: 0.227852  [12800/60000]\n",
      "loss: 0.327175  [19200/60000]\n",
      "loss: 0.223806  [25600/60000]\n",
      "loss: 0.225843  [32000/60000]\n",
      "loss: 0.196030  [38400/60000]\n",
      "loss: 0.116284  [44800/60000]\n",
      "loss: 0.161045  [51200/60000]\n",
      "loss: 0.348307  [57600/60000]\n",
      "loss: 0.664650  [29984/60000]\n",
      "Done!\n"
     ]
    }
   ],
   "source": [
    "for epoch in range(epochs):\n",
    "    print(f\"Epoch {epoch+1}, lr: {scheduler.optimizer.param_groups[0]['lr']}\\n-------------------------------\")\n",
    "    loss = one_train_epoch(train_loader, model, loss_fn, optimizer)\n",
    "    scheduler.step(loss)\n",
    "print(\"Done!\")"
   ]
  },
  {
   "cell_type": "code",
   "execution_count": null,
   "id": "239c2a10",
   "metadata": {},
   "outputs": [],
   "source": []
  }
 ],
 "metadata": {
  "kernelspec": {
   "display_name": "Python 3 (ipykernel)",
   "language": "python",
   "name": "python3"
  },
  "language_info": {
   "codemirror_mode": {
    "name": "ipython",
    "version": 3
   },
   "file_extension": ".py",
   "mimetype": "text/x-python",
   "name": "python",
   "nbconvert_exporter": "python",
   "pygments_lexer": "ipython3",
   "version": "3.9.5"
  }
 },
 "nbformat": 4,
 "nbformat_minor": 5
}
